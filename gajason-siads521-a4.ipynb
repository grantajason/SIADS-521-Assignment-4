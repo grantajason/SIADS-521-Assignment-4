{
 "cells": [
  {
   "cell_type": "markdown",
   "metadata": {},
   "source": [
    "# SIADS 521, Assignment 4"
   ]
  },
  {
   "cell_type": "markdown",
   "metadata": {},
   "source": [
    "By: Grant Jason"
   ]
  },
  {
   "cell_type": "markdown",
   "metadata": {},
   "source": [
    "## Rule et al's computational narrative rules used\n",
    "\n",
    "### 1. Tell a story\n",
    "Through the notebook, I attempt to use both markdown cells and comments inside code cells to help the viewer understand what I am doing and the story I am trying to tell with the data\n",
    "\n",
    "### 2. Document the process, not the results\n",
    "Similar to above, I try to ensure the notebook is very linear and clearly commented throughout\n",
    "\n",
    "### 3. Use cell divisions to make steps clear\n",
    "I try to clearly break up each major step in the workflow into its own cell\n",
    "\n",
    "### 4. Modularize code\n",
    "I contain each chart into its own function so when I need to generate a dashoboard using them later, I just call the function instead of re-writing the code\n",
    "\n",
    "### 6. Use version control\n",
    "This notebook was built using a private git repository on my github profile: https://github.com/grantajason"
   ]
  },
  {
   "cell_type": "code",
   "execution_count": 1,
   "metadata": {},
   "outputs": [],
   "source": [
    "# import statements\n",
    "\n",
    "import pandas as pd                                 # Data manipulation\n",
    "import numpy as np                                  # For any stats or math needed\n",
    "import matplotlib.pyplot as plt                     # General plotting and formatting\n",
    "import seaborn as sns                               # More advanced charting\n",
    "import plotly.express as px                         # New graphing library I wanted to try - I like their 2D Histograms\n",
    "import ipywidgets as widgets                        # For interaction\n",
    "from matplotlib.lines import Line2D                 # For legends\n",
    "from matplotlib import style                        # For setting overall style\n",
    "from IPython.display import display, clear_output   # For dashboarding\n",
    "from ipywidgets import interact, interactive        # For interaction"
   ]
  },
  {
   "cell_type": "markdown",
   "metadata": {},
   "source": [
    "## Data Preparation\n",
    "To start, lets bring in the inital data set and perform some general cleansings that will likely be applicable to all charts. Any chart specific cleansing or transformations I will do within the function that is used to create each chart."
   ]
  },
  {
   "cell_type": "code",
   "execution_count": 2,
   "metadata": {},
   "outputs": [
    {
     "data": {
      "application/vnd.microsoft.datawrangler.viewer.v0+json": {
       "columns": [
        {
         "name": "index",
         "rawType": "int64",
         "type": "integer"
        },
        {
         "name": "Air Power",
         "rawType": "float64",
         "type": "float"
        },
        {
         "name": "Cadence",
         "rawType": "float64",
         "type": "float"
        },
        {
         "name": "Form Power",
         "rawType": "float64",
         "type": "float"
        },
        {
         "name": "Ground Time",
         "rawType": "float64",
         "type": "float"
        },
        {
         "name": "Leg Spring Stiffness",
         "rawType": "float64",
         "type": "float"
        },
        {
         "name": "Power",
         "rawType": "float64",
         "type": "float"
        },
        {
         "name": "Vertical Oscillation",
         "rawType": "float64",
         "type": "float"
        },
        {
         "name": "altitude",
         "rawType": "float64",
         "type": "float"
        },
        {
         "name": "cadence",
         "rawType": "float64",
         "type": "float"
        },
        {
         "name": "datafile",
         "rawType": "object",
         "type": "string"
        },
        {
         "name": "distance",
         "rawType": "float64",
         "type": "float"
        },
        {
         "name": "enhanced_altitude",
         "rawType": "float64",
         "type": "float"
        },
        {
         "name": "enhanced_speed",
         "rawType": "float64",
         "type": "float"
        },
        {
         "name": "fractional_cadence",
         "rawType": "float64",
         "type": "float"
        },
        {
         "name": "heart_rate",
         "rawType": "float64",
         "type": "float"
        },
        {
         "name": "position_lat",
         "rawType": "float64",
         "type": "float"
        },
        {
         "name": "position_long",
         "rawType": "float64",
         "type": "float"
        },
        {
         "name": "speed",
         "rawType": "float64",
         "type": "float"
        },
        {
         "name": "timestamp",
         "rawType": "datetime64[ns]",
         "type": "datetime"
        },
        {
         "name": "unknown_87",
         "rawType": "float64",
         "type": "float"
        },
        {
         "name": "unknown_88",
         "rawType": "float64",
         "type": "float"
        },
        {
         "name": "unknown_90",
         "rawType": "float64",
         "type": "float"
        },
        {
         "name": "month_name",
         "rawType": "object",
         "type": "string"
        },
        {
         "name": "date",
         "rawType": "object",
         "type": "unknown"
        },
        {
         "name": "lat_deg",
         "rawType": "float64",
         "type": "float"
        },
        {
         "name": "lon_deg",
         "rawType": "float64",
         "type": "float"
        }
       ],
       "conversionMethod": "pd.DataFrame",
       "ref": "dbc65ff1-a7fc-4a8c-8c93-d139ad3a8de7",
       "rows": [
        [
         "0",
         null,
         null,
         null,
         null,
         null,
         null,
         null,
         null,
         "0.0",
         "activities/2675855419.fit.gz",
         "0.0",
         null,
         "0.0",
         "0.0",
         "68.0",
         null,
         null,
         "0.0",
         "2019-07-08 21:04:03",
         "0.0",
         "300.0",
         null,
         "July",
         "2019-07-08",
         null,
         null
        ],
        [
         "1",
         null,
         null,
         null,
         null,
         null,
         null,
         null,
         null,
         "0.0",
         "activities/2675855419.fit.gz",
         "0.0",
         null,
         "0.0",
         "0.0",
         "68.0",
         null,
         null,
         "0.0",
         "2019-07-08 21:04:04",
         "0.0",
         "300.0",
         null,
         "July",
         "2019-07-08",
         null,
         null
        ],
        [
         "2",
         null,
         null,
         null,
         null,
         null,
         null,
         null,
         null,
         "54.0",
         "activities/2675855419.fit.gz",
         "1.32",
         null,
         "1.316",
         "0.0",
         "71.0",
         null,
         null,
         "1316.0",
         "2019-07-08 21:04:07",
         "0.0",
         "300.0",
         null,
         "July",
         "2019-07-08",
         null,
         null
        ],
        [
         "3",
         null,
         null,
         null,
         null,
         null,
         null,
         null,
         "3747.0",
         "77.0",
         "activities/2675855419.fit.gz",
         "12.19",
         "249.4",
         "1.866",
         "0.0",
         "77.0",
         "504432050.0",
         "-999063637.0",
         "1866.0",
         "2019-07-08 21:04:14",
         "0.0",
         "100.0",
         null,
         "July",
         "2019-07-08",
         "42.28100599721074",
         "-83.74054667539895"
        ],
        [
         "4",
         null,
         null,
         null,
         null,
         null,
         null,
         null,
         "3798.0",
         "77.0",
         "activities/2675855419.fit.gz",
         "14.08",
         "259.6",
         "1.894",
         "0.0",
         "80.0",
         "504432492.0",
         "-999064534.0",
         "1894.0",
         "2019-07-08 21:04:15",
         "0.0",
         "100.0",
         null,
         "July",
         "2019-07-08",
         "42.28104304522276",
         "-83.7406218610704"
        ]
       ],
       "shape": {
        "columns": 26,
        "rows": 5
       }
      },
      "text/html": [
       "<div>\n",
       "<style scoped>\n",
       "    .dataframe tbody tr th:only-of-type {\n",
       "        vertical-align: middle;\n",
       "    }\n",
       "\n",
       "    .dataframe tbody tr th {\n",
       "        vertical-align: top;\n",
       "    }\n",
       "\n",
       "    .dataframe thead th {\n",
       "        text-align: right;\n",
       "    }\n",
       "</style>\n",
       "<table border=\"1\" class=\"dataframe\">\n",
       "  <thead>\n",
       "    <tr style=\"text-align: right;\">\n",
       "      <th></th>\n",
       "      <th>Air Power</th>\n",
       "      <th>Cadence</th>\n",
       "      <th>Form Power</th>\n",
       "      <th>Ground Time</th>\n",
       "      <th>Leg Spring Stiffness</th>\n",
       "      <th>Power</th>\n",
       "      <th>Vertical Oscillation</th>\n",
       "      <th>altitude</th>\n",
       "      <th>cadence</th>\n",
       "      <th>datafile</th>\n",
       "      <th>...</th>\n",
       "      <th>position_long</th>\n",
       "      <th>speed</th>\n",
       "      <th>timestamp</th>\n",
       "      <th>unknown_87</th>\n",
       "      <th>unknown_88</th>\n",
       "      <th>unknown_90</th>\n",
       "      <th>month_name</th>\n",
       "      <th>date</th>\n",
       "      <th>lat_deg</th>\n",
       "      <th>lon_deg</th>\n",
       "    </tr>\n",
       "  </thead>\n",
       "  <tbody>\n",
       "    <tr>\n",
       "      <th>0</th>\n",
       "      <td>NaN</td>\n",
       "      <td>NaN</td>\n",
       "      <td>NaN</td>\n",
       "      <td>NaN</td>\n",
       "      <td>NaN</td>\n",
       "      <td>NaN</td>\n",
       "      <td>NaN</td>\n",
       "      <td>NaN</td>\n",
       "      <td>0.0</td>\n",
       "      <td>activities/2675855419.fit.gz</td>\n",
       "      <td>...</td>\n",
       "      <td>NaN</td>\n",
       "      <td>0.0</td>\n",
       "      <td>2019-07-08 21:04:03</td>\n",
       "      <td>0.0</td>\n",
       "      <td>300.0</td>\n",
       "      <td>NaN</td>\n",
       "      <td>July</td>\n",
       "      <td>2019-07-08</td>\n",
       "      <td>NaN</td>\n",
       "      <td>NaN</td>\n",
       "    </tr>\n",
       "    <tr>\n",
       "      <th>1</th>\n",
       "      <td>NaN</td>\n",
       "      <td>NaN</td>\n",
       "      <td>NaN</td>\n",
       "      <td>NaN</td>\n",
       "      <td>NaN</td>\n",
       "      <td>NaN</td>\n",
       "      <td>NaN</td>\n",
       "      <td>NaN</td>\n",
       "      <td>0.0</td>\n",
       "      <td>activities/2675855419.fit.gz</td>\n",
       "      <td>...</td>\n",
       "      <td>NaN</td>\n",
       "      <td>0.0</td>\n",
       "      <td>2019-07-08 21:04:04</td>\n",
       "      <td>0.0</td>\n",
       "      <td>300.0</td>\n",
       "      <td>NaN</td>\n",
       "      <td>July</td>\n",
       "      <td>2019-07-08</td>\n",
       "      <td>NaN</td>\n",
       "      <td>NaN</td>\n",
       "    </tr>\n",
       "    <tr>\n",
       "      <th>2</th>\n",
       "      <td>NaN</td>\n",
       "      <td>NaN</td>\n",
       "      <td>NaN</td>\n",
       "      <td>NaN</td>\n",
       "      <td>NaN</td>\n",
       "      <td>NaN</td>\n",
       "      <td>NaN</td>\n",
       "      <td>NaN</td>\n",
       "      <td>54.0</td>\n",
       "      <td>activities/2675855419.fit.gz</td>\n",
       "      <td>...</td>\n",
       "      <td>NaN</td>\n",
       "      <td>1316.0</td>\n",
       "      <td>2019-07-08 21:04:07</td>\n",
       "      <td>0.0</td>\n",
       "      <td>300.0</td>\n",
       "      <td>NaN</td>\n",
       "      <td>July</td>\n",
       "      <td>2019-07-08</td>\n",
       "      <td>NaN</td>\n",
       "      <td>NaN</td>\n",
       "    </tr>\n",
       "    <tr>\n",
       "      <th>3</th>\n",
       "      <td>NaN</td>\n",
       "      <td>NaN</td>\n",
       "      <td>NaN</td>\n",
       "      <td>NaN</td>\n",
       "      <td>NaN</td>\n",
       "      <td>NaN</td>\n",
       "      <td>NaN</td>\n",
       "      <td>3747.0</td>\n",
       "      <td>77.0</td>\n",
       "      <td>activities/2675855419.fit.gz</td>\n",
       "      <td>...</td>\n",
       "      <td>-999063637.0</td>\n",
       "      <td>1866.0</td>\n",
       "      <td>2019-07-08 21:04:14</td>\n",
       "      <td>0.0</td>\n",
       "      <td>100.0</td>\n",
       "      <td>NaN</td>\n",
       "      <td>July</td>\n",
       "      <td>2019-07-08</td>\n",
       "      <td>42.281006</td>\n",
       "      <td>-83.740547</td>\n",
       "    </tr>\n",
       "    <tr>\n",
       "      <th>4</th>\n",
       "      <td>NaN</td>\n",
       "      <td>NaN</td>\n",
       "      <td>NaN</td>\n",
       "      <td>NaN</td>\n",
       "      <td>NaN</td>\n",
       "      <td>NaN</td>\n",
       "      <td>NaN</td>\n",
       "      <td>3798.0</td>\n",
       "      <td>77.0</td>\n",
       "      <td>activities/2675855419.fit.gz</td>\n",
       "      <td>...</td>\n",
       "      <td>-999064534.0</td>\n",
       "      <td>1894.0</td>\n",
       "      <td>2019-07-08 21:04:15</td>\n",
       "      <td>0.0</td>\n",
       "      <td>100.0</td>\n",
       "      <td>NaN</td>\n",
       "      <td>July</td>\n",
       "      <td>2019-07-08</td>\n",
       "      <td>42.281043</td>\n",
       "      <td>-83.740622</td>\n",
       "    </tr>\n",
       "  </tbody>\n",
       "</table>\n",
       "<p>5 rows × 26 columns</p>\n",
       "</div>"
      ],
      "text/plain": [
       "   Air Power  Cadence  Form Power  Ground Time  Leg Spring Stiffness  Power  \\\n",
       "0        NaN      NaN         NaN          NaN                   NaN    NaN   \n",
       "1        NaN      NaN         NaN          NaN                   NaN    NaN   \n",
       "2        NaN      NaN         NaN          NaN                   NaN    NaN   \n",
       "3        NaN      NaN         NaN          NaN                   NaN    NaN   \n",
       "4        NaN      NaN         NaN          NaN                   NaN    NaN   \n",
       "\n",
       "   Vertical Oscillation  altitude  cadence                      datafile  ...  \\\n",
       "0                   NaN       NaN      0.0  activities/2675855419.fit.gz  ...   \n",
       "1                   NaN       NaN      0.0  activities/2675855419.fit.gz  ...   \n",
       "2                   NaN       NaN     54.0  activities/2675855419.fit.gz  ...   \n",
       "3                   NaN    3747.0     77.0  activities/2675855419.fit.gz  ...   \n",
       "4                   NaN    3798.0     77.0  activities/2675855419.fit.gz  ...   \n",
       "\n",
       "   position_long   speed           timestamp  unknown_87  unknown_88  \\\n",
       "0            NaN     0.0 2019-07-08 21:04:03         0.0       300.0   \n",
       "1            NaN     0.0 2019-07-08 21:04:04         0.0       300.0   \n",
       "2            NaN  1316.0 2019-07-08 21:04:07         0.0       300.0   \n",
       "3   -999063637.0  1866.0 2019-07-08 21:04:14         0.0       100.0   \n",
       "4   -999064534.0  1894.0 2019-07-08 21:04:15         0.0       100.0   \n",
       "\n",
       "   unknown_90  month_name        date    lat_deg    lon_deg  \n",
       "0         NaN        July  2019-07-08        NaN        NaN  \n",
       "1         NaN        July  2019-07-08        NaN        NaN  \n",
       "2         NaN        July  2019-07-08        NaN        NaN  \n",
       "3         NaN        July  2019-07-08  42.281006 -83.740547  \n",
       "4         NaN        July  2019-07-08  42.281043 -83.740622  \n",
       "\n",
       "[5 rows x 26 columns]"
      ]
     },
     "execution_count": 2,
     "metadata": {},
     "output_type": "execute_result"
    }
   ],
   "source": [
    "# bring in strava data\n",
    "\n",
    "strava = pd.read_csv('~/Downloads/strava.csv')\n",
    "\n",
    "# convert timestamp to datetime object for easier manipulation\n",
    "strava['timestamp'] = pd.to_datetime(strava['timestamp'])\n",
    "strava['month_name'] = strava['timestamp'].dt.month_name()\n",
    "strava['date'] = strava['timestamp'].dt.date\n",
    "\n",
    "# calculate actual degrees in case I use lat/lon\n",
    "strava['lat_deg'] = strava['position_lat'] * (180/2**31)\n",
    "strava['lon_deg'] = strava['position_long'] * (180/2**31)\n",
    "\n",
    "strava.head()"
   ]
  },
  {
   "cell_type": "markdown",
   "metadata": {},
   "source": [
    "## Chart #1\n",
    "### How much did Prof Brooks' cardio health increase over the summer?\n",
    "The first thing I want to do to understand how much Prof Brooks' cardio health improved over the summer. To do this, I want to look at the distribution of heart rates over the time periods available in the data set. I decided to use a violin plot to show this distribution, with the X Axis being the month and the Y axis being the heart rate distribution."
   ]
  },
  {
   "cell_type": "code",
   "execution_count": 20,
   "metadata": {},
   "outputs": [],
   "source": [
    "def cardio_health_violin(ax):\n",
    "    # create copy of initial data set to avoid errors later\n",
    "    cardio = strava.copy()\n",
    "\n",
    "    violin = sns.violinplot(x=strava['month_name'], y=strava['heart_rate'], ax=ax)\n",
    "\n",
    "    ax.set_title('Heart Rate Distribution by Month', pad=20, fontweight='bold')\n",
    "    ax.set_xlabel('Month', labelpad=20, fontsize=12)\n",
    "    ax.set_ylabel('Heart Rate in BPM', labelpad=20, fontsize=12)\n",
    "    ax.tick_params(axis='both', which='major', labelsize=10)"
   ]
  },
  {
   "cell_type": "markdown",
   "metadata": {},
   "source": [
    "Hmm this chart has some interesting variation. Why was July the lowest? Why does October have the highest concentration of BPM around 140? Lets dig in further."
   ]
  },
  {
   "cell_type": "markdown",
   "metadata": {},
   "source": [
    "## Chart #2\n",
    "### Plotting heart rate against activity\n",
    "\n",
    "I notice we have a 'speed' column. I'm going to do some analysis to see if we can identify which acitivity Prof Brooks did not a given day. Presumably an activity like running would have a much lower average speed than an activity like biking. Perhaps we can use this information to identify which activity Prof Brooks was doing on a given day, and see if one activity type leads to a higher heart rate than others.\n"
   ]
  },
  {
   "cell_type": "code",
   "execution_count": 4,
   "metadata": {},
   "outputs": [],
   "source": [
    "speed = strava.groupby('date').agg({'enhanced_speed': 'mean', 'heart_rate': 'mean'}).reset_index()"
   ]
  },
  {
   "cell_type": "markdown",
   "metadata": {},
   "source": [
    "Okay! So looking at the data this way, we see some days the average speed in m/s hovers around 2 which we can assume is Prof Brooks' running pace, and others hovers between 5-7 m/s which might be his biking pace. Lets use ~3 m/s as the cutoff to help us distinguish the activity on a given day between running a biking. Lets then plot these against eachother to see if one activity lead Prof Brooks' heart rate to be higher than the other.\n",
    "\n",
    "I'm going to use color to identify which month a data point occurred in, and shape to identify which activity type it was."
   ]
  },
  {
   "cell_type": "code",
   "execution_count": 5,
   "metadata": {},
   "outputs": [],
   "source": [
    "def running_or_biking(speed):\n",
    "    if speed >= 3:\n",
    "        return 'Biking'\n",
    "    else:\n",
    "        return 'Running'\n",
    "    \n",
    "speed['activity'] = speed['enhanced_speed'].apply(running_or_biking)\n",
    "speed['month'] = pd.to_datetime(speed['date']).dt.month_name()"
   ]
  },
  {
   "cell_type": "code",
   "execution_count": 21,
   "metadata": {},
   "outputs": [],
   "source": [
    "def activity_scatter(ax):\n",
    "    activity = speed.copy()\n",
    "\n",
    "    # identify mappings for each categorical mark\n",
    "    color_map = {'July': 'tab:blue', 'August': 'tab:orange', 'September': 'tab:green', 'October': 'tab:red'}\n",
    "    marker_map = {'Running': '^', 'Biking': 'o'}\n",
    "\n",
    "    # generate scatter given two categorical encodings\n",
    "    for i in range(len(activity)):\n",
    "        ax.scatter(x=activity['enhanced_speed'].iloc[i],\n",
    "                   y=activity['heart_rate'].iloc[i],\n",
    "                   c=color_map[activity['month'].iloc[i]],\n",
    "                   marker=marker_map[activity['activity'].iloc[i]])\n",
    "\n",
    "    # create legend handle\n",
    "    legend_handles = [Line2D([0], [0], marker='o', color='w', markerfacecolor=color, markersize=10, label=month)\n",
    "                      for month, color in color_map.items()]\n",
    "\n",
    "    ax.legend(handles=legend_handles, title='Month', prop={'size': 8})\n",
    "    ax.set_title('Speed v Heart Rate', pad=20, fontweight='bold')\n",
    "    ax.set_xlim(0,10)\n",
    "    ax.set_xlabel('Speed in m/s', labelpad=20, fontsize=12)\n",
    "    ax.set_ylabel('Heart Rate in BPM', labelpad=20, fontsize=12)\n",
    "    ax.tick_params(axis='both', which='major', labelsize=10)"
   ]
  },
  {
   "cell_type": "markdown",
   "metadata": {},
   "source": [
    "Okay, so we learned a few new things from this. First, it appears Prof Brooks became interested in biking around September. The other interesting thing is his heart rate was much higher while running on average in August than it was July.\n",
    "\n",
    "I'm very interested in why there is such a difference between July and August. Lets take a look next at some other things that might impact heart rate in the data, and figure out why this might have been."
   ]
  },
  {
   "cell_type": "markdown",
   "metadata": {},
   "source": [
    "## Chart #3\n",
    "### How did distance impact heart rate zones?\n",
    "\n",
    "To aid in this analysis, I am going to group what \"Zone\" a heart rate reading was in. Read more about heart rate zones here: https://health.clevelandclinic.org/exercise-heart-rate-zones-explained\n",
    "\n",
    "To caluclate these zones, you first calculate your maximum heart rate. The formula for this is 220 - Current Age. Although the data is specific to Professor Brooks, I do not know his age! I'm going to add some interactivity so Professor Brooks can enter his current age.\n",
    "\n",
    "Likewise, you then need the user's resting heart rate. This is to calculate the Heart Rate Reserve, which is Max Heart Rate - Resting Heart Rate. You then multiple each zone's relative intensity by percent, and add it back to the resting heart rate. Lets start to build this out."
   ]
  },
  {
   "cell_type": "code",
   "execution_count": 42,
   "metadata": {},
   "outputs": [],
   "source": [
    "# Create Age Selector\n",
    "select_age = widgets.IntSlider(\n",
    "    value=40,\n",
    "    min=18,\n",
    "    max=100,\n",
    "    step=1,\n",
    "    description='Select Current Age:',\n",
    "    disabled=False,\n",
    "    continuous_update=False,\n",
    "    orientation='horizontal',\n",
    "    readout=True,\n",
    "    readout_format='d',\n",
    "    style={'description_width': '150px'},\n",
    "    layout=widgets.Layout(width='50%')\n",
    ")\n",
    "\n",
    "# Create Resting Heart Rate Selector\n",
    "select_resting_hr = widgets.IntSlider(\n",
    "    value=75,\n",
    "    min=40,\n",
    "    max=100,\n",
    "    step=1,\n",
    "    description='Select Resting HR:',\n",
    "    disabled=False,\n",
    "    continuous_update=False,\n",
    "    orientation='horizontal',\n",
    "    readout=True,\n",
    "    readout_format='d',\n",
    "    style={'description_width': '150px'},\n",
    "    layout=widgets.Layout(width='50%')\n",
    ")\n",
    "\n",
    "months = strava['month_name'].unique()\n",
    "\n",
    "# Month Selector\n",
    "select_month = widgets.Dropdown(\n",
    "    options=months,\n",
    "    description='Month:',\n",
    "    value='July',\n",
    "    disabled=False,\n",
    "    layout=widgets.Layout(width='20%'),\n",
    "    style={'description_width': 'initial'}\n",
    ")"
   ]
  },
  {
   "cell_type": "code",
   "execution_count": 95,
   "metadata": {},
   "outputs": [],
   "source": [
    "def calculate_hr_zones(heart_rate, age, resting_hr):\n",
    "    max_hr = 220 - age\n",
    "    hr_reserve = max_hr - resting_hr\n",
    "\n",
    "    if heart_rate < (resting_hr + (hr_reserve * 0.5)):\n",
    "        return \"Resting\"\n",
    "    elif resting_hr + (hr_reserve * 0.5) <= heart_rate < (resting_hr + (hr_reserve * 0.6)): # fixed logic\n",
    "        return \"Zone 1\"\n",
    "    elif resting_hr + (hr_reserve * 0.6) <= heart_rate < (resting_hr + (hr_reserve * 0.7)): # fixed logic\n",
    "        return \"Zone 2\"\n",
    "    elif resting_hr + (hr_reserve * 0.7) <= heart_rate < (resting_hr + (hr_reserve * 0.8)): # fixed logic\n",
    "        return \"Zone 3\"\n",
    "    elif resting_hr + (hr_reserve * 0.8) <= heart_rate < (resting_hr + (hr_reserve * 0.9)): # fixed logic\n",
    "        return \"Zone 4\"\n",
    "    elif heart_rate >= (resting_hr + (hr_reserve * 0.9)):\n",
    "        return \"Zone 5\"\n",
    "    else:\n",
    "        return None"
   ]
  },
  {
   "cell_type": "code",
   "execution_count": 131,
   "metadata": {},
   "outputs": [],
   "source": [
    "def activity_hr_heatmap(ax, age, resting_hr, month):\n",
    "    \n",
    "    # Create new df applying HR Zone definition from above depending on provided inputs\n",
    "    hr_data = strava.copy()\n",
    "    hr_data['activity'] = hr_data['enhanced_speed'].apply(running_or_biking)\n",
    "    hr_data = hr_data[hr_data['activity'] == 'Running']\n",
    "    hr_data['zone'] = hr_data['heart_rate'].apply(lambda hr: calculate_hr_zones(hr, age, resting_hr))\n",
    "    hr_data = hr_data[hr_data['month_name'] == month]\n",
    "\n",
    "    # Create 2D Histplot\n",
    "    sns.histplot(hr_data, x='zone', y='distance', bins=20, cbar=True, cmap='magma', ax=ax)\n",
    "\n",
    "    # Update color bar formatting\n",
    "    colorbar = ax.collections[0].colorbar\n",
    "    colorbar.set_label('# of Readings', fontsize=12)\n",
    "    colorbar.ax.tick_params(labelsize=8)\n",
    "\n",
    "    # Update chart formatting\n",
    "    ax.set_title('Density of HR Zone by Distance', pad=20, fontweight='bold')\n",
    "    ax.set_xlabel('HR Zone', labelpad=20, fontsize=12)\n",
    "    ax.set_ylabel('Distance in meters', labelpad=20, fontsize=12)\n",
    "    ax.tick_params(axis='both', which='major', labelsize=10, pad=20)\n"
   ]
  },
  {
   "cell_type": "markdown",
   "metadata": {},
   "source": [
    "Looking at data from August, we can see that approaching the 3 mile mark (~4800m) is when Prof Brook's heart rate appears to peak as there is a high density of readings in Zone 5 around that distance. What's also interesting is the gap in Zone 2 around 3000-4000m. This likely implies that consistently, Prof Brooks is still in the middle of his workouts around this distance mark. It isn't until his HR peaks that he begins to cool down, as indicated by the smaller amount of readings that appear in Zone 1-4 at high distances."
   ]
  },
  {
   "cell_type": "markdown",
   "metadata": {},
   "source": [
    "## Chart #4 \n",
    "### Regression of HR Zone and Distance\n",
    "\n",
    "Lets take the above chart one final step, and see if we can calculate a \"regression\" to model Prof Brook's heart rate over the distance. To do this, I am going to use a scatter plot and reg plot in Seaborn. I am going to leverage some of the similar capability above to calculate these HR Zones."
   ]
  },
  {
   "cell_type": "code",
   "execution_count": 134,
   "metadata": {},
   "outputs": [],
   "source": [
    "def hr_regression(ax, age, resting_hr, month):\n",
    "\n",
    "    # Create new df applying HR Zone definition from above depending on provided inputs\n",
    "    hr_data = strava.copy()\n",
    "    hr_data['activity'] = hr_data['enhanced_speed'].apply(running_or_biking)\n",
    "    hr_data = hr_data[hr_data['activity'] == 'Running']\n",
    "    hr_data['zone'] = hr_data['heart_rate'].apply(lambda hr: calculate_hr_zones(hr, age, resting_hr))\n",
    "    hr_data = hr_data[hr_data['month_name'] == month]\n",
    "\n",
    "    sns.scatterplot(hr_data, x='distance', y='heart_rate', hue='zone', palette='magma', ax=ax, s=20)\n",
    "\n",
    "    sns.regplot(hr_data, x='distance', y='heart_rate', scatter=False, ci=95,\n",
    "                line_kws={'color': 'black', 'linewidth':3, 'label': 'Regression Line'}, ax=ax)\n",
    "\n",
    "    # Formatting\n",
    "    ax.set_title('HR Regression by Distance', pad=20, fontweight='bold')\n",
    "    ax.set_xlabel('Distance in meters', labelpad=20, fontsize=12)\n",
    "    ax.set_ylabel('Heart Rate', labelpad=20, fontsize=12)\n",
    "    ax.legend(title='HR Zone', loc='lower right', fontsize=8)\n",
    "    ax.tick_params(axis='both', which='major', labelsize=10, pad=20)"
   ]
  },
  {
   "cell_type": "markdown",
   "metadata": {},
   "source": [
    "Well what do you know! The regression added some meaningful context. Based on August data, although Prof Brooks spent a lot of time in HR Zone 5 when approaching the 3 mile mark, the regression actually indicates it is around ~3600 meters that he would typically cross into Zone 5 for the first time."
   ]
  },
  {
   "cell_type": "markdown",
   "metadata": {},
   "source": [
    "## Create Dashboard\n",
    "### Bringing all the charts into one view!\n",
    "Alright! Now that I feel like we have a good set of charts, lets assemble them all into one view and render the dashboard."
   ]
  },
  {
   "cell_type": "code",
   "execution_count": 135,
   "metadata": {},
   "outputs": [
    {
     "data": {
      "application/vnd.jupyter.widget-view+json": {
       "model_id": "abb6e0a55fb243faa26b3a27a7d680b9",
       "version_major": 2,
       "version_minor": 0
      },
      "text/plain": [
       "interactive(children=(IntSlider(value=70, continuous_update=False, description='Select Resting HR:', layout=La…"
      ]
     },
     "execution_count": 135,
     "metadata": {},
     "output_type": "execute_result"
    }
   ],
   "source": [
    "def create_dashboard(resting_hr, age, month):\n",
    "\n",
    "    clear_output(wait=True)\n",
    "    plt.style.use('fivethirtyeight')\n",
    "    fig = plt.figure(figsize=(12,12))\n",
    "    gs = fig.add_gridspec(2,2)\n",
    "    gs = fig.add_gridspec(2, 2, wspace=0.3, hspace=0.3)\n",
    "\n",
    "    ax1 = fig.add_subplot(gs[0, 0])\n",
    "    fig.sca(ax1)\n",
    "    cardio_health_violin(ax1)\n",
    "\n",
    "    ax2 = fig.add_subplot(gs[0, 1])\n",
    "    fig.sca(ax2)\n",
    "    activity_scatter(ax2)\n",
    "\n",
    "    ax3 = fig.add_subplot(gs[1, 0])\n",
    "    fig.sca(ax3)\n",
    "    activity_hr_heatmap(ax3, age=age, resting_hr=resting_hr, month=month)\n",
    "\n",
    "    ax4 = fig.add_subplot(gs[1, 1])\n",
    "    fig.sca(ax4)\n",
    "    hr_regression(ax4, age=age, resting_hr=resting_hr, month=month)\n",
    "\n",
    "\n",
    "dashboard = interactive(create_dashboard, resting_hr=select_resting_hr, age=select_age, month=select_month)\n",
    "dashboard"
   ]
  }
 ],
 "metadata": {
  "kernelspec": {
   "display_name": "Python 3",
   "language": "python",
   "name": "python3"
  },
  "language_info": {
   "codemirror_mode": {
    "name": "ipython",
    "version": 3
   },
   "file_extension": ".py",
   "mimetype": "text/x-python",
   "name": "python",
   "nbconvert_exporter": "python",
   "pygments_lexer": "ipython3",
   "version": "3.13.0"
  }
 },
 "nbformat": 4,
 "nbformat_minor": 2
}
